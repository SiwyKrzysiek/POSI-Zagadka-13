{
 "cells": [
  {
   "cell_type": "markdown",
   "metadata": {
    "ExecuteTime": {
     "end_time": "2020-05-27T13:04:49.540624Z",
     "start_time": "2020-05-27T13:04:49.534943Z"
    }
   },
   "source": [
    "# Skrypt do roziwiązania zagadki 13\n",
    "\n",
    "Przy stole (zachowaniem dystansu w okresie pandemii 1,5m) w barze siedziały rozmawiały 4 pary, używając często słów\n",
    "nieparlamentarnych - wiadomo ludzie zestresowani koronawirusem. Ewa przeklęła 2 razy, Laura-3,Julia-4, Izolda 5.\n",
    "Adam zaklął tyle razy ile jego oblubienica, Filon-dwa razy więcej niż\n",
    "jego dziewczyna, Romeo-trzykrotnie więcej niż jeg luba, Tristan-cztery\n",
    "razy więcej niż pani jego serca.\n",
    "W sumie padły 44 wyrazy niecenzuralne.\n",
    "Które osoby tworzyły każdą parę?"
   ]
  },
  {
   "cell_type": "code",
   "execution_count": 2,
   "metadata": {
    "ExecuteTime": {
     "end_time": "2020-05-27T13:52:04.523726Z",
     "start_time": "2020-05-27T13:52:04.521063Z"
    }
   },
   "outputs": [],
   "source": [
    "from collections import namedtuple"
   ]
  },
  {
   "cell_type": "code",
   "execution_count": 3,
   "metadata": {
    "ExecuteTime": {
     "end_time": "2020-05-27T13:52:04.756515Z",
     "start_time": "2020-05-27T13:52:04.752145Z"
    }
   },
   "outputs": [],
   "source": [
    "#wartości dla dziewczyn\n",
    "Dziewczyna = namedtuple('Dziewczyna', ['imie', 'wartosc'])\n",
    "\n",
    "e = Dziewczyna('Ewa', 2)\n",
    "l = Dziewczyna('Laura', 3)\n",
    "j = Dziewczyna('Julia', 4)\n",
    "i = Dziewczyna('Izolda', 5)\n",
    "dziewczyny = set([e, l, j, i])"
   ]
  },
  {
   "cell_type": "code",
   "execution_count": 4,
   "metadata": {
    "ExecuteTime": {
     "end_time": "2020-05-27T13:52:04.992280Z",
     "start_time": "2020-05-27T13:52:04.988211Z"
    }
   },
   "outputs": [],
   "source": [
    "# Warunki dla facetów\n",
    "Facet = namedtuple('Facet', ['imie', 'mapowanie'])\n",
    "\n",
    "A = Facet('Adam', lambda x: 1*x)\n",
    "F = Facet('Filon', lambda x: 2*x)\n",
    "R = Facet('Romeo', lambda x: 3*x)\n",
    "T = Facet('Tristan', lambda x: 4*x)"
   ]
  },
  {
   "cell_type": "code",
   "execution_count": 5,
   "metadata": {
    "ExecuteTime": {
     "end_time": "2020-05-27T13:52:05.245751Z",
     "start_time": "2020-05-27T13:52:05.239900Z"
    }
   },
   "outputs": [],
   "source": [
    "# Tworzenie wszystkich możliwych par\n",
    "Para = namedtuple('Para', ['facet', 'dziewczyna'])\n",
    "\n",
    "kombinacje = []\n",
    "for dA in dziewczyny:\n",
    "    pozostale1 = dziewczyny.copy()\n",
    "    pozostale1.remove(dA)\n",
    "    for dF in pozostale1:\n",
    "        pozostale2 = pozostale1.copy()\n",
    "        pozostale2.remove(dF)\n",
    "        for dR in pozostale2:\n",
    "            pozostale3 = pozostale2.copy()\n",
    "            pozostale3.remove(dR)\n",
    "            dT = pozostale3.pop()\n",
    "            \n",
    "            kombinacje.append([Para(A, dA), Para(F, dF), Para(R, dR), Para(T, dT)])\n"
   ]
  },
  {
   "cell_type": "code",
   "execution_count": 6,
   "metadata": {
    "ExecuteTime": {
     "end_time": "2020-05-27T13:52:05.703313Z",
     "start_time": "2020-05-27T13:52:05.701104Z"
    },
    "scrolled": true
   },
   "outputs": [],
   "source": [
    "# Wypisanie możliwych kombinacji\n",
    "# for kombinacja in kombinacje:\n",
    "#     for para in kombinacja:\n",
    "#         print(f'{para[0].imie:7} i {para[1].imie}')\n",
    "#     print()"
   ]
  },
  {
   "cell_type": "code",
   "execution_count": 7,
   "metadata": {
    "ExecuteTime": {
     "end_time": "2020-05-27T13:52:06.204986Z",
     "start_time": "2020-05-27T13:52:06.199716Z"
    }
   },
   "outputs": [
    {
     "name": "stdout",
     "output_type": "stream",
     "text": [
      "Znaleziono pasującą kombinację!\n",
      "Adam    i Izolda\n",
      "Filon   i Julia\n",
      "Romeo   i Laura\n",
      "Tristan i Ewa\n"
     ]
    }
   ],
   "source": [
    "## Sprawdzenie, które kombinacje sprełniają warunek zagadki\n",
    "\n",
    "cel = 44\n",
    "for kombinacja in kombinacje:\n",
    "    suma = 0\n",
    "    for para in kombinacja:\n",
    "        d = para.dziewczyna.wartosc\n",
    "        f = para.facet.mapowanie(d)\n",
    "        suma += d + f\n",
    "    \n",
    "    if suma == cel:\n",
    "        print(\"Znaleziono pasującą kombinację!\")\n",
    "        for para in kombinacja:\n",
    "            print(f'{para[0].imie:7} i {para[1].imie}')"
   ]
  }
 ],
 "metadata": {
  "kernelspec": {
   "display_name": "Python 3",
   "language": "python",
   "name": "python3"
  },
  "language_info": {
   "codemirror_mode": {
    "name": "ipython",
    "version": 3
   },
   "file_extension": ".py",
   "mimetype": "text/x-python",
   "name": "python",
   "nbconvert_exporter": "python",
   "pygments_lexer": "ipython3",
   "version": "3.7.5"
  },
  "toc": {
   "base_numbering": 1,
   "nav_menu": {},
   "number_sections": false,
   "sideBar": true,
   "skip_h1_title": false,
   "title_cell": "Table of Contents",
   "title_sidebar": "Contents",
   "toc_cell": false,
   "toc_position": {},
   "toc_section_display": true,
   "toc_window_display": false
  },
  "varInspector": {
   "cols": {
    "lenName": 16,
    "lenType": 16,
    "lenVar": 40
   },
   "kernels_config": {
    "python": {
     "delete_cmd_postfix": "",
     "delete_cmd_prefix": "del ",
     "library": "var_list.py",
     "varRefreshCmd": "print(var_dic_list())"
    },
    "r": {
     "delete_cmd_postfix": ") ",
     "delete_cmd_prefix": "rm(",
     "library": "var_list.r",
     "varRefreshCmd": "cat(var_dic_list()) "
    }
   },
   "types_to_exclude": [
    "module",
    "function",
    "builtin_function_or_method",
    "instance",
    "_Feature"
   ],
   "window_display": false
  }
 },
 "nbformat": 4,
 "nbformat_minor": 2
}
